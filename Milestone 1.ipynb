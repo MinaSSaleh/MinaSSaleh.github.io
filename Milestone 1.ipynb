{
 "cells": [
  {
   "cell_type": "markdown",
   "id": "24c11770",
   "metadata": {},
   "source": [
    "Lousiana Hydrographic Data: Mina Saleh and Ryan Park\n",
    "\n",
    "Our final project for our data science class this semseter will take a look at studies of Lousiana hydrographyic data. Extensive studies have been made to record water data in the region of Lousiana. With access to data recorded by the Coastal Protection and Restoration Authority (CPRA), we can analyze some fundamental attributes pertaining to the water, namely the water level, the water's temperature, and the quality of the water by looking at various nutrients. This data has been collected across a variety of sites, with several years of recorded data for each. The data is avaialable here: https://cims.coastal.louisiana.gov/DataDownload/DataDownload.aspx?type=hydro_monthly\n",
    "\n"
   ]
  },
  {
   "cell_type": "markdown",
   "id": "17057637",
   "metadata": {},
   "source": [
    "Write up/ Project Plan:\n",
    "\n",
    "We already have a means of scraping the data sources provided by the CPRA. The next step is to isolate some relevant sites and make studies on them. At a foundational level, our program will record the desired hydrographic variables (water level, temperature, and quality) versus time. We can use visuals to survey various trends, and make more complex rate analysis later. For example, how is the rate of temperature change varying across a period of five years? Moreso, with the location of the measurement sites specified, we could link intresting results to local industrial efforts. This project aims to use what we learned/ will learn throughout the class to provide an overview of the local water situation in the Lousiana area. The CPRA have already made extensive efforts at acqiring this data with sensory equipment. Our aim is to provide a more accessible overview of the fundamental data they have exracted, and then draw our own insight based on what we have., \n",
    "\n",
    "In regards to our team/ collaboration effort so far, we have already set up a private Github repository to update the code. We have met in person severals times to plan out and scope the project. Moving forward we will be meeting in person and on zoom to continuously update the project. "
   ]
  },
  {
   "cell_type": "code",
   "execution_count": null,
   "id": "3c3f10e1",
   "metadata": {},
   "outputs": [],
   "source": [
    "# Reading& cleaning  the dataset: "
   ]
  }
 ],
 "metadata": {
  "kernelspec": {
   "display_name": "Python 3",
   "language": "python",
   "name": "python3"
  },
  "language_info": {
   "codemirror_mode": {
    "name": "ipython",
    "version": 3
   },
   "file_extension": ".py",
   "mimetype": "text/x-python",
   "name": "python",
   "nbconvert_exporter": "python",
   "pygments_lexer": "ipython3",
   "version": "3.8.8"
  }
 },
 "nbformat": 4,
 "nbformat_minor": 5
}
