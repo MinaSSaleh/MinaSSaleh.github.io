{
 "cells": [
  {
   "cell_type": "markdown",
   "metadata": {},
   "source": [
    "https://minassaleh.github.io/"
   ]
  },
  {
   "cell_type": "markdown",
   "metadata": {},
   "source": [
    "## Louisiana Hydrographic Data Analysis\n",
    "#### Mina Saleh and Ryan Park"
   ]
  },
  {
   "cell_type": "markdown",
   "metadata": {},
   "source": [
    "### Project Description"
   ]
  },
  {
   "cell_type": "markdown",
   "metadata": {},
   "source": [
    "Our final project for our data science class this semseter will take a look at studies of Lousiana hydrographic data. Extensive studies have been made to record water data in the region of Lousiana. With access to data recorded by the Coastal Protection and Restoration Authority (CPRA), we can analyze some fundamental attributes pertaining to the water, namely the water level, the water's temperature, and the quality of the water by looking at the pH and salaninty. This data has been collected across a variety of research sites, with several years of recorded data for each. The data is avaialable [here](https://cims.coastal.louisiana.gov/DataDownload/DataDownload.aspx?type=hydro_monthly). We will also obtain hourly water level data from the same website."
   ]
  },
  {
   "cell_type": "markdown",
   "metadata": {},
   "source": [
    "### Project Plan"
   ]
  },
  {
   "cell_type": "markdown",
   "metadata": {},
   "source": [
    "We already have a means of scraping the data sources provided by the CPRA. The next step is to isolate some relevant sites and make studies on them. At a foundational level, our program will record the desired hydrographic variables (water level, temperature, and quality) versus time. We can use visuals to survey various trends, and make more complex rate analysis later. For example, how is the rate of temperature change varying across a period of five years? Moreso, with the location of the measurement sites specified, we could link intresting results to local industrial endeavours. Furthermore, the CPRA has made signifcant endeavours to counter the threat of growing land erosion, available here: https://cims.coastal.louisiana.gov/outreach/projects/OPL_Full_page.html. With the data we have, we can attempt to understand the impact of each project. Ultimately, This project aims to use what we are learning throughout the class to provide an overview of the local water situation in the Lousiana area with the help of sensory data gathered by the CPRA. Our aim is to provide a more accessible overview of the fundamental data they have exracted, and then draw our own insight based on what we have. One possible goal of this project would be to make a recommendation to the local glass recycling organization, Glass Half Full Nola, who are interested in depositing recycled sand as a means to restore barrier islands that protect the mainland from storm surge and other storm related disasters. Where is the most useful place to deposit GHF sand? What size should the sand particles be? Are there places where it would be a bad idea to dump sand, and instead better to plant seeds?\n",
    "\n",
    "In regards to our collaboration effort so far, we have already set up a private Github repository to update the code. We have met in person severals times to plan out and scope the project. Moving forward we will be meeting in person and on zoom to continuously update the project. \n",
    "\n",
    "The data below is monthly hydographic data recorded by the CPRA across a collection of sites, as part of various projects. The data contains various water attributes. For now, we will focus on temperature, elevation, pH, and salinity. The data was difficult to gather at first, since they are only accessible by submitting an e-mail request for each project. This was circumvented by using a bot. With the raw data extracted, the next step was to combine the project csv's into a single csv, and read that as a dataframe. This data frame was cleaned by removing extraneous attributes, replacing empty strings with NaNs, and combining the date and time.  \n",
    "\n",
    "We have already isolated the table, which has an enormous collection of data, and cleaned it with what we currently intend to use. Moving forward, we will work on isolating several station ID's, and their associated data. We can then use the data we obtain from each station to understand the development of the water situation at that location."
   ]
  },
  {
   "cell_type": "markdown",
   "metadata": {},
   "source": [
    "### Imports"
   ]
  },
  {
   "cell_type": "code",
   "execution_count": 3,
   "metadata": {},
   "outputs": [],
   "source": [
    "import os\n",
    "from os import listdir as ls\n",
    "from os.path import join as pjoin\n",
    "import re\n",
    "import requests\n",
    "import time\n",
    "\n",
    "from bs4 import BeautifulSoup as bs\n",
    "from fake_useragent import UserAgent\n",
    "import geopandas as gpd\n",
    "from matplotlib import cm\n",
    "import matplotlib.pyplot as plt\n",
    "import numpy as np\n",
    "import pandas as pd\n",
    "from selenium import webdriver\n",
    "from selenium.webdriver.chrome.options import Options\n",
    "from selenium.webdriver.common.by import By\n",
    "from selenium.webdriver.common.proxy import Proxy, ProxyType"
   ]
  },
  {
   "cell_type": "markdown",
   "metadata": {},
   "source": [
    "### Webscraping"
   ]
  },
  {
   "cell_type": "code",
   "execution_count": 22,
   "metadata": {},
   "outputs": [],
   "source": [
    "# Get information from CPRA coastal protection authority.\n",
    "data_type = \"biomass\" # \"hydro_monthly\" \"accretion\"\n",
    "site = f\"https://cims.coastal.louisiana.gov/DataDownload/DataDownload.aspx?type={data_type}\"\n",
    "extract = requests.get(site)"
   ]
  },
  {
   "cell_type": "markdown",
   "metadata": {},
   "source": [
    "In order to access CPRA data, we must submit download requests from the website as the data is not explicitly available from the site. One solution to this problem is to use a chromebot that will visit the CPRA site and execute the requests one at a time at a fast rate. There are roughly 500 downloads that we would like to extract across three datasets"
   ]
  },
  {
   "cell_type": "code",
   "execution_count": 34,
   "metadata": {
    "scrolled": true
   },
   "outputs": [],
   "source": [
    "def get_free_proxies():\n",
    "    \"\"\"Due to https://stackoverflow.com/questions/59409418/how-to-rotate-selenium-webrowser-ip-address\"\"\"\n",
    "    driver = webdriver.Chrome()\n",
    "    driver.get('https://sslproxies.org')\n",
    "    table = driver.find_element(By.TAG_NAME, 'table')\n",
    "    thead = table.find_element(By.TAG_NAME, 'thead').find_elements(By.TAG_NAME, 'th')\n",
    "    tbody = table.find_element(By.TAG_NAME, 'tbody').find_elements(By.TAG_NAME, 'tr')\n",
    "    headers = [th.text.strip() for th in thead]\n",
    "    proxies = []\n",
    "    for tr in tbody:\n",
    "        proxy_data = {}\n",
    "        tds = tr.find_elements(By.TAG_NAME, 'td')\n",
    "        for i in range(len(headers)):\n",
    "            proxy_data[headers[i]] = tds[i].text.strip()\n",
    "        proxies.append(proxy_data)\n",
    "    driver.close()\n",
    "    return [f\"{pr['IP Address']}:{pr['Port']}\" for pr in proxies]\n",
    "\n",
    "\n",
    "def setup_driver(ip=None, random_user=False):\n",
    "    driver_specs = {\"options\": Options()}\n",
    "            \n",
    "    if ip:\n",
    "        # Rotating proxy\n",
    "        prox = Proxy()\n",
    "        prox.proxy_type = ProxyType.MANUAL\n",
    "        prox.http_proxy = ip\n",
    "        capabilities = webdriver.DesiredCapabilities.CHROME\n",
    "        prox.add_to_capabilities(capabilities)\n",
    "        driver_specs[\"desired_capabilities\"] = capabilities\n",
    "    if random_user:\n",
    "        # Rotating user-agent\n",
    "        driver_specs[\"options\"].add_argument(\n",
    "            f\"user-agent={UserAgent().random}\")\n",
    "    return webdriver.Chrome(**driver_specs)\n",
    "    \n",
    "           \n",
    "def chrome_bot(site, site_text, rotate_ip=False):\n",
    "    email = \"rpark1@tulane.edu\"\n",
    "    # Get the name of each project for field extract\n",
    "    projects = re.findall(\"[A-Z]{2}-[0-9]{4}[\\ -].*\\)\", site_text) # \\([0-9]{2}/.*\\)\n",
    "    # Optional Start condition\n",
    "    # projects = projects[projects.index(\"LA-0206 - HSDRRS ARMORING (10/20/2011 to 03/25/2021 [225])\"):]\n",
    "    for p in projects:\n",
    "        # Start chrome bot.\n",
    "        driver = setup_driver()\n",
    "        # Go to CPRA.\n",
    "        driver.get(site)\n",
    "        # Check off for long/lat data\n",
    "        driver.find_element_by_id(\"MainContent_CB_StationLatLong\").click()\n",
    "        # Select project.\n",
    "        driver.find_element_by_id(\"MainContent_DDL_ProjectList\").send_keys(p)\n",
    "        # Press download\n",
    "        driver.find_element_by_id(\"MainContent_BTN_DownLoad\").click()\n",
    "        try:\n",
    "            # File small enough to auto extract.\n",
    "            # Name the extract file\n",
    "            driver.find_element_by_id(\"MainContent_TB_Filename\").send_keys(p.split()[0])\n",
    "            # Submit extraction \n",
    "            driver.find_element_by_id(\"MainContent_BTN_OkFilename\").click()\n",
    "        except:\n",
    "            # Otherwise must go through email.\n",
    "            driver.find_element_by_id(\"MainContent_TB_OkCancelEmailInfo\").send_keys(email)\n",
    "            # Submit\n",
    "            driver.find_element_by_id(\"MainContent_BTN_OkCancelEmailOk\").click()\n",
    "        # Close for next request.\n",
    "        time.sleep(1.1)\n",
    "        driver.close()\n",
    "\n",
    "# Download each project found on the website locally, named into zip files after each project\n",
    "# Note: some of these zip files are too big and get emailed to the email specified in chrome_bot\n",
    "# chrome_bot(site, extract.text)"
   ]
  },
  {
   "cell_type": "markdown",
   "metadata": {},
   "source": [
    "The code above takes about 20 minutes to download the each of the projects any of the websites. Occasionally the bot will crash about half way through, in which case line 43 can be uncommented with the appropriate index query to start where the bot left off. An email must be supplied for files that are too large to download straight from the internet. The bot will have those files sent to the email specified in line 39. Once all emails are sent, files are downloaded from the email and then renamed to the project code prefix. Unzipping all the downloaded results in a set of csv files that are assembled into folders corresponding to each dataset."
   ]
  },
  {
   "cell_type": "markdown",
   "metadata": {},
   "source": [
    "### Assembly and Tidying"
   ]
  },
  {
   "cell_type": "code",
   "execution_count": 36,
   "metadata": {
    "scrolled": true
   },
   "outputs": [],
   "source": [
    "# After unzipping and renaming emailed files, we are left with csv files. We would like to combine these\n",
    "# into dataframes, and rewrite tidy data back to the disk for later loading.\n",
    "\n",
    "def combine_from_zip(name, blacklist=[]):\n",
    "    # Concatonate csv files and create project column.\n",
    "    # My data location currently # TODO: decide on dir structure in github.\n",
    "    df = pd.DataFrame()\n",
    "    dat_path = pjoin(\"..\", \"data\", name)\n",
    "    # data from storage\n",
    "    for f in ls(dat_path):\n",
    "        # print(f)\n",
    "        # Skip non csv.\n",
    "        if \".csv\" not in f or f in blacklist:\n",
    "            continue\n",
    "        fpath = pjoin(dat_path, f)\n",
    "        subdf = pd.read_csv(fpath, encoding=\"latin1\")\n",
    "        df = df.append(subdf)\n",
    "    return df\n",
    "\n",
    "# hydro_untidy = combine_from_zip(\"CPRA_Hydro_Monthly\")\n",
    "# accretion_untidy = combine_from_zip(\"CPRA_Accretion\", blacklist=[\"BS-0019.csv\", \"BS-0026.csv\", \"BS-0008.csv\", \"BA-0158.csv\", \"BA-0159.csv\"])\n",
    "# biomass_untidy = combine_from_zip(\"CPRA_Biomass\")\n",
    "# Blacklisted data has an extra column, might reformat those files later,"
   ]
  },
  {
   "cell_type": "markdown",
   "metadata": {},
   "source": [
    "#### Tidying Hydrographic Data"
   ]
  },
  {
   "cell_type": "code",
   "execution_count": 40,
   "metadata": {
    "scrolled": false
   },
   "outputs": [
    {
     "data": {
      "text/html": [
       "<div>\n",
       "<style scoped>\n",
       "    .dataframe tbody tr th:only-of-type {\n",
       "        vertical-align: middle;\n",
       "    }\n",
       "\n",
       "    .dataframe tbody tr th {\n",
       "        vertical-align: top;\n",
       "    }\n",
       "\n",
       "    .dataframe thead th {\n",
       "        text-align: right;\n",
       "    }\n",
       "</style>\n",
       "<table border=\"1\" class=\"dataframe\">\n",
       "  <thead>\n",
       "    <tr style=\"text-align: right;\">\n",
       "      <th></th>\n",
       "      <th>CPRA Station ID</th>\n",
       "      <th>Measurement Depth (ft)</th>\n",
       "      <th>Staff Gauge (ft)</th>\n",
       "      <th>Water Temperature (°C)</th>\n",
       "      <th>Specific Conductance (uS/cm)</th>\n",
       "      <th>Salinity (ppt)</th>\n",
       "      <th>pH (pH units)</th>\n",
       "      <th>Latitude</th>\n",
       "      <th>Longitude</th>\n",
       "      <th>Datetime</th>\n",
       "    </tr>\n",
       "  </thead>\n",
       "  <tbody>\n",
       "    <tr>\n",
       "      <th>0</th>\n",
       "      <td>CRMS6304-P01</td>\n",
       "      <td>0.328</td>\n",
       "      <td>0.67</td>\n",
       "      <td>NaN</td>\n",
       "      <td>NaN</td>\n",
       "      <td>NaN</td>\n",
       "      <td>NaN</td>\n",
       "      <td>29.420313</td>\n",
       "      <td>-91.279049</td>\n",
       "      <td>2009-10-19 10:40:00</td>\n",
       "    </tr>\n",
       "    <tr>\n",
       "      <th>1</th>\n",
       "      <td>CRMS6304-P01</td>\n",
       "      <td>0.328</td>\n",
       "      <td>2.28</td>\n",
       "      <td>NaN</td>\n",
       "      <td>NaN</td>\n",
       "      <td>NaN</td>\n",
       "      <td>NaN</td>\n",
       "      <td>29.420313</td>\n",
       "      <td>-91.279049</td>\n",
       "      <td>2009-11-12 13:51:00</td>\n",
       "    </tr>\n",
       "    <tr>\n",
       "      <th>2</th>\n",
       "      <td>CRMS6304-P01</td>\n",
       "      <td>0.984</td>\n",
       "      <td>2.28</td>\n",
       "      <td>NaN</td>\n",
       "      <td>NaN</td>\n",
       "      <td>NaN</td>\n",
       "      <td>NaN</td>\n",
       "      <td>29.420313</td>\n",
       "      <td>-91.279049</td>\n",
       "      <td>2009-11-12 13:51:00</td>\n",
       "    </tr>\n",
       "    <tr>\n",
       "      <th>3</th>\n",
       "      <td>CRMS6304-P01</td>\n",
       "      <td>0.328</td>\n",
       "      <td>1.28</td>\n",
       "      <td>NaN</td>\n",
       "      <td>NaN</td>\n",
       "      <td>NaN</td>\n",
       "      <td>NaN</td>\n",
       "      <td>29.420313</td>\n",
       "      <td>-91.279049</td>\n",
       "      <td>2009-12-28 12:31:00</td>\n",
       "    </tr>\n",
       "    <tr>\n",
       "      <th>4</th>\n",
       "      <td>CRMS6304-P01</td>\n",
       "      <td>0.984</td>\n",
       "      <td>1.28</td>\n",
       "      <td>NaN</td>\n",
       "      <td>NaN</td>\n",
       "      <td>NaN</td>\n",
       "      <td>NaN</td>\n",
       "      <td>29.420313</td>\n",
       "      <td>-91.279049</td>\n",
       "      <td>2009-12-28 12:31:00</td>\n",
       "    </tr>\n",
       "    <tr>\n",
       "      <th>...</th>\n",
       "      <td>...</td>\n",
       "      <td>...</td>\n",
       "      <td>...</td>\n",
       "      <td>...</td>\n",
       "      <td>...</td>\n",
       "      <td>...</td>\n",
       "      <td>...</td>\n",
       "      <td>...</td>\n",
       "      <td>...</td>\n",
       "      <td>...</td>\n",
       "    </tr>\n",
       "    <tr>\n",
       "      <th>879</th>\n",
       "      <td>CRMS0261-V51</td>\n",
       "      <td>0.984</td>\n",
       "      <td>NaN</td>\n",
       "      <td>NaN</td>\n",
       "      <td>NaN</td>\n",
       "      <td>NaN</td>\n",
       "      <td>NaN</td>\n",
       "      <td>29.601989</td>\n",
       "      <td>-90.104419</td>\n",
       "      <td>2018-08-07 11:23:00</td>\n",
       "    </tr>\n",
       "    <tr>\n",
       "      <th>880</th>\n",
       "      <td>CRMS0261-V51</td>\n",
       "      <td>0.328</td>\n",
       "      <td>0.56</td>\n",
       "      <td>NaN</td>\n",
       "      <td>NaN</td>\n",
       "      <td>NaN</td>\n",
       "      <td>NaN</td>\n",
       "      <td>29.601989</td>\n",
       "      <td>-90.104419</td>\n",
       "      <td>2019-08-20 13:06:00</td>\n",
       "    </tr>\n",
       "    <tr>\n",
       "      <th>881</th>\n",
       "      <td>CRMS0261-V51</td>\n",
       "      <td>0.984</td>\n",
       "      <td>0.56</td>\n",
       "      <td>NaN</td>\n",
       "      <td>NaN</td>\n",
       "      <td>NaN</td>\n",
       "      <td>NaN</td>\n",
       "      <td>29.601989</td>\n",
       "      <td>-90.104419</td>\n",
       "      <td>2019-08-20 13:06:00</td>\n",
       "    </tr>\n",
       "    <tr>\n",
       "      <th>882</th>\n",
       "      <td>CRMS0261-V51</td>\n",
       "      <td>0.328</td>\n",
       "      <td>1.58</td>\n",
       "      <td>NaN</td>\n",
       "      <td>NaN</td>\n",
       "      <td>NaN</td>\n",
       "      <td>NaN</td>\n",
       "      <td>29.601989</td>\n",
       "      <td>-90.104419</td>\n",
       "      <td>2021-08-19 13:25:00</td>\n",
       "    </tr>\n",
       "    <tr>\n",
       "      <th>883</th>\n",
       "      <td>CRMS0261-V51</td>\n",
       "      <td>0.984</td>\n",
       "      <td>1.58</td>\n",
       "      <td>NaN</td>\n",
       "      <td>NaN</td>\n",
       "      <td>NaN</td>\n",
       "      <td>NaN</td>\n",
       "      <td>29.601989</td>\n",
       "      <td>-90.104419</td>\n",
       "      <td>2021-08-19 13:25:00</td>\n",
       "    </tr>\n",
       "  </tbody>\n",
       "</table>\n",
       "<p>1746910 rows × 10 columns</p>\n",
       "</div>"
      ],
      "text/plain": [
       "    CPRA Station ID  Measurement Depth (ft)  Staff Gauge (ft)  \\\n",
       "0      CRMS6304-P01                   0.328              0.67   \n",
       "1      CRMS6304-P01                   0.328              2.28   \n",
       "2      CRMS6304-P01                   0.984              2.28   \n",
       "3      CRMS6304-P01                   0.328              1.28   \n",
       "4      CRMS6304-P01                   0.984              1.28   \n",
       "..              ...                     ...               ...   \n",
       "879    CRMS0261-V51                   0.984               NaN   \n",
       "880    CRMS0261-V51                   0.328              0.56   \n",
       "881    CRMS0261-V51                   0.984              0.56   \n",
       "882    CRMS0261-V51                   0.328              1.58   \n",
       "883    CRMS0261-V51                   0.984              1.58   \n",
       "\n",
       "     Water Temperature (°C)  Specific Conductance (uS/cm)  Salinity (ppt)  \\\n",
       "0                       NaN                           NaN             NaN   \n",
       "1                       NaN                           NaN             NaN   \n",
       "2                       NaN                           NaN             NaN   \n",
       "3                       NaN                           NaN             NaN   \n",
       "4                       NaN                           NaN             NaN   \n",
       "..                      ...                           ...             ...   \n",
       "879                     NaN                           NaN             NaN   \n",
       "880                     NaN                           NaN             NaN   \n",
       "881                     NaN                           NaN             NaN   \n",
       "882                     NaN                           NaN             NaN   \n",
       "883                     NaN                           NaN             NaN   \n",
       "\n",
       "     pH (pH units)   Latitude  Longitude            Datetime  \n",
       "0              NaN  29.420313 -91.279049 2009-10-19 10:40:00  \n",
       "1              NaN  29.420313 -91.279049 2009-11-12 13:51:00  \n",
       "2              NaN  29.420313 -91.279049 2009-11-12 13:51:00  \n",
       "3              NaN  29.420313 -91.279049 2009-12-28 12:31:00  \n",
       "4              NaN  29.420313 -91.279049 2009-12-28 12:31:00  \n",
       "..             ...        ...        ...                 ...  \n",
       "879            NaN  29.601989 -90.104419 2018-08-07 11:23:00  \n",
       "880            NaN  29.601989 -90.104419 2019-08-20 13:06:00  \n",
       "881            NaN  29.601989 -90.104419 2019-08-20 13:06:00  \n",
       "882            NaN  29.601989 -90.104419 2021-08-19 13:25:00  \n",
       "883            NaN  29.601989 -90.104419 2021-08-19 13:25:00  \n",
       "\n",
       "[1746910 rows x 10 columns]"
      ]
     },
     "execution_count": 40,
     "metadata": {},
     "output_type": "execute_result"
    }
   ],
   "source": [
    "# Focus on only the columns we care about\n",
    "cols = [\"CPRA Station ID\", \"Date (mm/dd/yyyy)\", \"Time (hh:mm)\", \"Measurement Depth (ft)\",\n",
    "        \"Staff Gauge (ft)\", \"Water Temperature (°C)\", \"Specific Conductance (uS/cm)\",\n",
    "        \"Salinity (ppt)\", \"pH (pH units)\", \"Latitude\", \"Longitude\"]\n",
    "# print(hydro[\"Time Zone\"].unique()) # all CST\n",
    "hydro_subset = hydro_untidy[cols].copy()\n",
    "# Create datetime columns\n",
    "hydro_subset.loc[:, \"Datetime\"] = pd.to_datetime(\n",
    "    hydro_subset[\"Date (mm/dd/yyyy)\"] + \"_\" + hydro_subset[\"Time (hh:mm)\"],\n",
    "    format=\"%m/%d/%Y_%H:%M\")\n",
    "hydro = hydro_subset.drop([\"Time (hh:mm)\", \"Date (mm/dd/yyyy)\"], axis=1)\n",
    "hydro"
   ]
  },
  {
   "cell_type": "markdown",
   "metadata": {},
   "source": [
    "#### Tidying Accretion Data"
   ]
  },
  {
   "cell_type": "code",
   "execution_count": null,
   "metadata": {},
   "outputs": [],
   "source": [
    "# UNFINISHED\n",
    "# Observe the dataset columns\n",
    "accretion_untidy.columns\n",
    "# Focus on only the columns we care about\n",
    "cols = [\"Latitude\", \"Longitude\"]\n",
    "accretion_subset = accretion_untidy[cols]\n",
    "# Create datetime columns\n",
    "accretion_subset.loc[:, \"Datetime\"] = pd.to_datetime(\n",
    "    accretion_subset[\"Date (mm/dd/yyyy)\"] + \"_\" + accretion_subset[\"Time (hh:mm)\"],\n",
    "    format=\"%m/%d/%Y_%H:%M\")\n",
    "accretion = accretion_untidy.drop([\"Time (hh:mm)\", \"Date (mm/dd/yyyy)\"], axis=1)"
   ]
  },
  {
   "cell_type": "markdown",
   "metadata": {},
   "source": [
    "#### Tidying Biomass Data"
   ]
  },
  {
   "cell_type": "code",
   "execution_count": 62,
   "metadata": {},
   "outputs": [],
   "source": [
    "# UNFINISHED"
   ]
  },
  {
   "cell_type": "markdown",
   "metadata": {},
   "source": [
    "### Load Checkpoint"
   ]
  },
  {
   "cell_type": "code",
   "execution_count": 41,
   "metadata": {},
   "outputs": [
    {
     "data": {
      "text/html": [
       "<div>\n",
       "<style scoped>\n",
       "    .dataframe tbody tr th:only-of-type {\n",
       "        vertical-align: middle;\n",
       "    }\n",
       "\n",
       "    .dataframe tbody tr th {\n",
       "        vertical-align: top;\n",
       "    }\n",
       "\n",
       "    .dataframe thead th {\n",
       "        text-align: right;\n",
       "    }\n",
       "</style>\n",
       "<table border=\"1\" class=\"dataframe\">\n",
       "  <thead>\n",
       "    <tr style=\"text-align: right;\">\n",
       "      <th></th>\n",
       "      <th>CPRA Station ID</th>\n",
       "      <th>Measurement Depth (ft)</th>\n",
       "      <th>Staff Gauge (ft)</th>\n",
       "      <th>Water Temperature (°C)</th>\n",
       "      <th>Specific Conductance (uS/cm)</th>\n",
       "      <th>Salinity (ppt)</th>\n",
       "      <th>pH (pH units)</th>\n",
       "      <th>Latitude</th>\n",
       "      <th>Longitude</th>\n",
       "      <th>Datetime</th>\n",
       "    </tr>\n",
       "  </thead>\n",
       "  <tbody>\n",
       "    <tr>\n",
       "      <th>0</th>\n",
       "      <td>CRMS6304-P01</td>\n",
       "      <td>0.328</td>\n",
       "      <td>0.67</td>\n",
       "      <td>NaN</td>\n",
       "      <td>NaN</td>\n",
       "      <td>NaN</td>\n",
       "      <td>NaN</td>\n",
       "      <td>29.420313</td>\n",
       "      <td>-91.279049</td>\n",
       "      <td>2009-10-19 10:40:00</td>\n",
       "    </tr>\n",
       "    <tr>\n",
       "      <th>1</th>\n",
       "      <td>CRMS6304-P01</td>\n",
       "      <td>0.328</td>\n",
       "      <td>2.28</td>\n",
       "      <td>NaN</td>\n",
       "      <td>NaN</td>\n",
       "      <td>NaN</td>\n",
       "      <td>NaN</td>\n",
       "      <td>29.420313</td>\n",
       "      <td>-91.279049</td>\n",
       "      <td>2009-11-12 13:51:00</td>\n",
       "    </tr>\n",
       "    <tr>\n",
       "      <th>2</th>\n",
       "      <td>CRMS6304-P01</td>\n",
       "      <td>0.984</td>\n",
       "      <td>2.28</td>\n",
       "      <td>NaN</td>\n",
       "      <td>NaN</td>\n",
       "      <td>NaN</td>\n",
       "      <td>NaN</td>\n",
       "      <td>29.420313</td>\n",
       "      <td>-91.279049</td>\n",
       "      <td>2009-11-12 13:51:00</td>\n",
       "    </tr>\n",
       "    <tr>\n",
       "      <th>3</th>\n",
       "      <td>CRMS6304-P01</td>\n",
       "      <td>0.328</td>\n",
       "      <td>1.28</td>\n",
       "      <td>NaN</td>\n",
       "      <td>NaN</td>\n",
       "      <td>NaN</td>\n",
       "      <td>NaN</td>\n",
       "      <td>29.420313</td>\n",
       "      <td>-91.279049</td>\n",
       "      <td>2009-12-28 12:31:00</td>\n",
       "    </tr>\n",
       "    <tr>\n",
       "      <th>4</th>\n",
       "      <td>CRMS6304-P01</td>\n",
       "      <td>0.984</td>\n",
       "      <td>1.28</td>\n",
       "      <td>NaN</td>\n",
       "      <td>NaN</td>\n",
       "      <td>NaN</td>\n",
       "      <td>NaN</td>\n",
       "      <td>29.420313</td>\n",
       "      <td>-91.279049</td>\n",
       "      <td>2009-12-28 12:31:00</td>\n",
       "    </tr>\n",
       "  </tbody>\n",
       "</table>\n",
       "</div>"
      ],
      "text/plain": [
       "  CPRA Station ID  Measurement Depth (ft)  Staff Gauge (ft)  \\\n",
       "0    CRMS6304-P01                   0.328              0.67   \n",
       "1    CRMS6304-P01                   0.328              2.28   \n",
       "2    CRMS6304-P01                   0.984              2.28   \n",
       "3    CRMS6304-P01                   0.328              1.28   \n",
       "4    CRMS6304-P01                   0.984              1.28   \n",
       "\n",
       "   Water Temperature (°C)  Specific Conductance (uS/cm)  Salinity (ppt)  \\\n",
       "0                     NaN                           NaN             NaN   \n",
       "1                     NaN                           NaN             NaN   \n",
       "2                     NaN                           NaN             NaN   \n",
       "3                     NaN                           NaN             NaN   \n",
       "4                     NaN                           NaN             NaN   \n",
       "\n",
       "   pH (pH units)   Latitude  Longitude            Datetime  \n",
       "0            NaN  29.420313 -91.279049 2009-10-19 10:40:00  \n",
       "1            NaN  29.420313 -91.279049 2009-11-12 13:51:00  \n",
       "2            NaN  29.420313 -91.279049 2009-11-12 13:51:00  \n",
       "3            NaN  29.420313 -91.279049 2009-12-28 12:31:00  \n",
       "4            NaN  29.420313 -91.279049 2009-12-28 12:31:00  "
      ]
     },
     "execution_count": 41,
     "metadata": {},
     "output_type": "execute_result"
    }
   ],
   "source": [
    "# Save tidy data up to this point\n",
    "write = False\n",
    "if write:\n",
    "    hydro.to_csv(\"../data/hydro.csv\")\n",
    "\n",
    "# Read in processed df from cell above\n",
    "hydro=pd.read_csv(\"../data/hydro.csv\", index_col=0)\n",
    "# Recover datetimes\n",
    "hydro.loc[:, \"Datetime\"] = pd.to_datetime(hydro.Datetime)\n",
    "hydro.head()"
   ]
  },
  {
   "cell_type": "markdown",
   "metadata": {},
   "source": [
    "### Site Locations\n",
    "We will start by mapping out the sites on a map of Louisiana"
   ]
  },
  {
   "cell_type": "code",
   "execution_count": 42,
   "metadata": {
    "scrolled": false
   },
   "outputs": [
    {
     "data": {
      "text/plain": [
       "Text(0.5, 1, 'Lousiana site study locations')"
      ]
     },
     "execution_count": 42,
     "metadata": {},
     "output_type": "execute_result"
    },
    {
     "data": {
      "image/png": "[encoded data removed]",
      "text/plain": [
       "<Figure size 1080x1080 with 1 Axes>"
      ]
     },
     "metadata": {
      "needs_background": "light"
     },
     "output_type": "display_data"
    }
   ],
   "source": [
    "import geopandas as gpd\n",
    "from shapely.geometry import Point, Polygon\n",
    "import matplotlib.pyplot as plt\n",
    "states = gpd.read_file(\"cb_2017_us_state_500k\")\n",
    "type(states)\n",
    "geometry = [Point(xy) for xy in zip(hydro[\"Longitude\"], hydro[\"Latitude\"])]\n",
    "geo_df = gpd.GeoDataFrame(hydro,geometry = geometry)\n",
    "fig, ax = plt.subplots(figsize=(15,15))\n",
    "ax.set_xlabel(\"Longtitude\")\n",
    "ax.set_ylabel(\"Latitude\")\n",
    "states[states['NAME'] == 'Louisiana'].plot(ax=ax, alpha=0.4)\n",
    "geo_df.plot(ax=ax, alpha=0.5, legend=True, markersize=10, c=\"black\")\n",
    "plt.title(\"Lousiana site study locations\", fontsize=15,fontweight=\"bold\");"
   ]
  },
  {
   "cell_type": "markdown",
   "metadata": {},
   "source": [
    "### Exploratory Data Analysis: Hydrographic Variance\n",
    "Since our project plans to recommend the best possible erosion protection strategy per water research site, we will start by looking at how varied the sites we are looking at actually are. \n",
    "\n",
    "We will first take a look at the staff gauge. Staff gauges signify how deep the water level at a particular site are. Having staff gauge data can be useful for identifying the water level development at a particular site. Additionally, as used below, examining the stagg gauge records can be useful for developing a preliminary idea on the uniformity of protection measures. "
   ]
  },
  {
   "cell_type": "code",
   "execution_count": 43,
   "metadata": {},
   "outputs": [
    {
     "data": {
      "image/png": "[encoded data removed]",
      "text/plain": [
       "<Figure size 1440x360 with 2 Axes>"
      ]
     },
     "metadata": {
      "needs_background": "light"
     },
     "output_type": "display_data"
    }
   ],
   "source": [
    "fig, ax = plt.subplots(1, 2, figsize=(20,5))\n",
    "hydro[\"Staff Gauge (ft)\"].plot.box(ax = ax[0], title=\"Variance of staff gauges\")\n",
    "hydro[\"Staff Gauge (ft)\"].plot.hist(bins = 100);"
   ]
  },
  {
   "cell_type": "markdown",
   "metadata": {},
   "source": [
    "Let's apply a similar sort of analysis to each of the pH and salinity. The water's pH will not necassarily make a difference in how suceptible an area is to flooding, or erosion, but can impact the choice of protection strategy. "
   ]
  },
  {
   "cell_type": "code",
   "execution_count": 44,
   "metadata": {},
   "outputs": [
    {
     "data": {
      "image/png": "[encoded data removed]",
      "text/plain": [
       "<Figure size 1440x360 with 2 Axes>"
      ]
     },
     "metadata": {
      "needs_background": "light"
     },
     "output_type": "display_data"
    }
   ],
   "source": [
    "fig, ax = plt.subplots(1, 2, figsize=(20,5))\n",
    "hydro[\"pH (pH units)\"].plot.box(ax = ax[0], title=\"Variance of pH\")\n",
    "hydro[\"pH (pH units)\"].plot.hist(bins = 100);"
   ]
  },
  {
   "cell_type": "markdown",
   "metadata": {},
   "source": [
    "Here's another very similat test for salinity. We expect this may be another factor in the ability of a region to host vegetative growth after a long period of time."
   ]
  },
  {
   "cell_type": "code",
   "execution_count": 51,
   "metadata": {},
   "outputs": [
    {
     "data": {
      "image/png": "[encoded data removed]",
      "text/plain": [
       "<Figure size 1440x360 with 2 Axes>"
      ]
     },
     "metadata": {
      "needs_background": "light"
     },
     "output_type": "display_data"
    }
   ],
   "source": [
    "fig, ax = plt.subplots(1, 2, figsize=(20,5))\n",
    "hydro[hydro[\"Salinity (ppt)\"] > 0][\"Salinity (ppt)\"].map(np.log).plot.box(ax = ax[0], title=\"Salinity (ppt)\")\n",
    "hydro[hydro[\"Salinity (ppt)\"] > 0][\"Salinity (ppt)\"].map(np.log).plot.hist(bins = 100);"
   ]
  },
  {
   "cell_type": "markdown",
   "metadata": {},
   "source": [
    "Here we observe the log transform of the data, lest we are unable to see the finer detail of all the data between 1e-3 and 1e4 ppt."
   ]
  },
  {
   "cell_type": "markdown",
   "metadata": {},
   "source": [
    "### Exploratory Data Analysis: Vegetation"
   ]
  },
  {
   "cell_type": "markdown",
   "metadata": {},
   "source": [
    "One of the most cost effective ways to mitigate the threat of erosion is through the effective use of vegetation. That's right, gardening can be as much a pastime as it could be a salvation effort for the effort. \n",
    "\n",
    "Plant roots can sturdy the structure of the sand, and reduce the risk of erosion. Plants typically thrive at PH between a PH of 5 and 7. None of our sites have that, but fortunately some varieties can grow at PH's as high as 8.5, which qualifies a good number of the sites, albeit tenuously. Let's take a look. "
   ]
  },
  {
   "cell_type": "code",
   "execution_count": 52,
   "metadata": {},
   "outputs": [
    {
     "name": "stdout",
     "output_type": "stream",
     "text": [
      "0.1111111111111111\n",
      "['BA-WQ-TS1-01' 'BA-WQ-TS1-02' 'BA-WQ-TS1-03' 'BA-WQ-TS2-01'\n",
      " 'BA-WQ-TS2-02' 'BA-WQ-TS2-03' 'BA-WQ-TS4-01' 'BA-WQ-TS4-02'\n",
      " 'BA-WQ-TS4-03' 'BA-WQ-TS6-01' 'BA-WQ-TS6-02' 'BA-WQ-TS6-03']\n"
     ]
    }
   ],
   "source": [
    "hydro=hydro.rename(columns={\"pH (pH units)\" : \"pH\"})\n",
    "UniqueStations=(pd.unique(hydro[\"CPRA Station ID\"]))\n",
    "PhEligible=hydro[hydro.pH<8.6]\n",
    "PhStations=pd.unique(PhEligible[\"CPRA Station ID\"])\n",
    "\n",
    "print(len(PhStations)/len(PhEligible))\n",
    "print(PhStations)"
   ]
  },
  {
   "cell_type": "markdown",
   "metadata": {},
   "source": [
    "11% of the stations were eligible. That's discouraging, but let's try plotting on them a map. "
   ]
  },
  {
   "cell_type": "code",
   "execution_count": 55,
   "metadata": {},
   "outputs": [
    {
     "data": {
      "image/png": "[encoded data removed]",
      "text/plain": [
       "<Figure size 1080x1080 with 1 Axes>"
      ]
     },
     "metadata": {
      "needs_background": "light"
     },
     "output_type": "display_data"
    }
   ],
   "source": [
    "\n",
    "geometry = [Point(xy) for xy in zip(PhEligible[\"Longitude\"], PhEligible[\"Latitude\"])]\n",
    "geo_df = gpd.GeoDataFrame(PhEligible,geometry = geometry)\n",
    "fig, ax = plt.subplots(figsize=(15,15))\n",
    "ax.set_xlabel(\"Longtitude\")\n",
    "ax.set_ylabel(\"Latitude\")\n",
    "states[states['NAME'] == 'Louisiana'].plot(ax=ax, alpha=0.4)\n",
    "geo_df.plot(ax=ax,alpha=0.5, legend=True,markersize=10)\n",
    "plt.title(\"PH viable vegetation locations\", fontsize=15,fontweight=\"bold\");"
   ]
  },
  {
   "cell_type": "markdown",
   "metadata": {},
   "source": [
    "There were 12 unique sites,but only 4 points on the map. It could be surmised that these each sites had three recordings in approximately the same location, thereby overlapping on the map.  \n",
    "Here are the site recordings in dataframe form"
   ]
  },
  {
   "cell_type": "code",
   "execution_count": 57,
   "metadata": {},
   "outputs": [
    {
     "data": {
      "text/html": [
       "<div>\n",
       "<style scoped>\n",
       "    .dataframe tbody tr th:only-of-type {\n",
       "        vertical-align: middle;\n",
       "    }\n",
       "\n",
       "    .dataframe tbody tr th {\n",
       "        vertical-align: top;\n",
       "    }\n",
       "\n",
       "    .dataframe thead th {\n",
       "        text-align: right;\n",
       "    }\n",
       "</style>\n",
       "<table border=\"1\" class=\"dataframe\">\n",
       "  <thead>\n",
       "    <tr style=\"text-align: right;\">\n",
       "      <th></th>\n",
       "      <th>CPRA Station ID</th>\n",
       "      <th>Measurement Depth (ft)</th>\n",
       "      <th>Staff Gauge (ft)</th>\n",
       "      <th>Water Temperature (°C)</th>\n",
       "      <th>Specific Conductance (uS/cm)</th>\n",
       "      <th>Salinity (ppt)</th>\n",
       "      <th>pH</th>\n",
       "      <th>Latitude</th>\n",
       "      <th>Longitude</th>\n",
       "      <th>Datetime</th>\n",
       "      <th>geometry</th>\n",
       "    </tr>\n",
       "  </thead>\n",
       "  <tbody>\n",
       "    <tr>\n",
       "      <th>0</th>\n",
       "      <td>BA-WQ-TS1-01</td>\n",
       "      <td>1.640</td>\n",
       "      <td>NaN</td>\n",
       "      <td>29.5</td>\n",
       "      <td>40211.7</td>\n",
       "      <td>25.6</td>\n",
       "      <td>8.3</td>\n",
       "      <td>29.274000</td>\n",
       "      <td>-89.954500</td>\n",
       "      <td>2018-07-25 12:25:00</td>\n",
       "      <td>POINT (-89.95450 29.27400)</td>\n",
       "    </tr>\n",
       "    <tr>\n",
       "      <th>1</th>\n",
       "      <td>BA-WQ-TS1-01</td>\n",
       "      <td>3.280</td>\n",
       "      <td>NaN</td>\n",
       "      <td>29.4</td>\n",
       "      <td>26066.0</td>\n",
       "      <td>15.9</td>\n",
       "      <td>8.5</td>\n",
       "      <td>29.274000</td>\n",
       "      <td>-89.954500</td>\n",
       "      <td>2018-09-26 09:53:00</td>\n",
       "      <td>POINT (-89.95450 29.27400)</td>\n",
       "    </tr>\n",
       "    <tr>\n",
       "      <th>2</th>\n",
       "      <td>BA-WQ-TS1-01</td>\n",
       "      <td>1.640</td>\n",
       "      <td>NaN</td>\n",
       "      <td>19.1</td>\n",
       "      <td>16827.5</td>\n",
       "      <td>9.9</td>\n",
       "      <td>8.5</td>\n",
       "      <td>29.274000</td>\n",
       "      <td>-89.954500</td>\n",
       "      <td>2019-03-26 12:00:00</td>\n",
       "      <td>POINT (-89.95450 29.27400)</td>\n",
       "    </tr>\n",
       "    <tr>\n",
       "      <th>3</th>\n",
       "      <td>BA-WQ-TS1-01</td>\n",
       "      <td>3.280</td>\n",
       "      <td>NaN</td>\n",
       "      <td>27.6</td>\n",
       "      <td>26890.4</td>\n",
       "      <td>11.8</td>\n",
       "      <td>8.5</td>\n",
       "      <td>29.274000</td>\n",
       "      <td>-89.954500</td>\n",
       "      <td>2019-05-21 11:48:00</td>\n",
       "      <td>POINT (-89.95450 29.27400)</td>\n",
       "    </tr>\n",
       "    <tr>\n",
       "      <th>5</th>\n",
       "      <td>BA-WQ-TS1-01</td>\n",
       "      <td>3.280</td>\n",
       "      <td>NaN</td>\n",
       "      <td>30.9</td>\n",
       "      <td>29081.1</td>\n",
       "      <td>15.8</td>\n",
       "      <td>8.4</td>\n",
       "      <td>29.274000</td>\n",
       "      <td>-89.954500</td>\n",
       "      <td>2019-08-29 12:59:00</td>\n",
       "      <td>POINT (-89.95450 29.27400)</td>\n",
       "    </tr>\n",
       "    <tr>\n",
       "      <th>...</th>\n",
       "      <td>...</td>\n",
       "      <td>...</td>\n",
       "      <td>...</td>\n",
       "      <td>...</td>\n",
       "      <td>...</td>\n",
       "      <td>...</td>\n",
       "      <td>...</td>\n",
       "      <td>...</td>\n",
       "      <td>...</td>\n",
       "      <td>...</td>\n",
       "      <td>...</td>\n",
       "    </tr>\n",
       "    <tr>\n",
       "      <th>67</th>\n",
       "      <td>BA-WQ-TS6-03</td>\n",
       "      <td>55.774</td>\n",
       "      <td>NaN</td>\n",
       "      <td>29.4</td>\n",
       "      <td>50097.5</td>\n",
       "      <td>32.8</td>\n",
       "      <td>8.2</td>\n",
       "      <td>29.101671</td>\n",
       "      <td>-89.972003</td>\n",
       "      <td>2018-09-26 08:28:00</td>\n",
       "      <td>POINT (-89.97200 29.10167)</td>\n",
       "    </tr>\n",
       "    <tr>\n",
       "      <th>68</th>\n",
       "      <td>BA-WQ-TS6-03</td>\n",
       "      <td>49.212</td>\n",
       "      <td>NaN</td>\n",
       "      <td>20.7</td>\n",
       "      <td>50235.0</td>\n",
       "      <td>31.6</td>\n",
       "      <td>8.0</td>\n",
       "      <td>29.101671</td>\n",
       "      <td>-89.972003</td>\n",
       "      <td>2019-03-26 09:00:00</td>\n",
       "      <td>POINT (-89.97200 29.10167)</td>\n",
       "    </tr>\n",
       "    <tr>\n",
       "      <th>69</th>\n",
       "      <td>BA-WQ-TS6-03</td>\n",
       "      <td>59.055</td>\n",
       "      <td>NaN</td>\n",
       "      <td>23.8</td>\n",
       "      <td>57170.7</td>\n",
       "      <td>39.1</td>\n",
       "      <td>8.1</td>\n",
       "      <td>29.101671</td>\n",
       "      <td>-89.972003</td>\n",
       "      <td>2019-05-21 09:05:00</td>\n",
       "      <td>POINT (-89.97200 29.10167)</td>\n",
       "    </tr>\n",
       "    <tr>\n",
       "      <th>70</th>\n",
       "      <td>BA-WQ-TS6-03</td>\n",
       "      <td>57.414</td>\n",
       "      <td>NaN</td>\n",
       "      <td>25.6</td>\n",
       "      <td>54102.5</td>\n",
       "      <td>35.4</td>\n",
       "      <td>8.5</td>\n",
       "      <td>29.101671</td>\n",
       "      <td>-89.972003</td>\n",
       "      <td>2019-07-25 09:55:00</td>\n",
       "      <td>POINT (-89.97200 29.10167)</td>\n",
       "    </tr>\n",
       "    <tr>\n",
       "      <th>71</th>\n",
       "      <td>BA-WQ-TS6-03</td>\n",
       "      <td>57.414</td>\n",
       "      <td>NaN</td>\n",
       "      <td>26.7</td>\n",
       "      <td>50329.5</td>\n",
       "      <td>32.8</td>\n",
       "      <td>8.0</td>\n",
       "      <td>29.101671</td>\n",
       "      <td>-89.972003</td>\n",
       "      <td>2019-08-29 10:18:00</td>\n",
       "      <td>POINT (-89.97200 29.10167)</td>\n",
       "    </tr>\n",
       "  </tbody>\n",
       "</table>\n",
       "<p>108 rows × 11 columns</p>\n",
       "</div>"
      ],
      "text/plain": [
       "   CPRA Station ID  Measurement Depth (ft)  Staff Gauge (ft)  \\\n",
       "0     BA-WQ-TS1-01                   1.640               NaN   \n",
       "1     BA-WQ-TS1-01                   3.280               NaN   \n",
       "2     BA-WQ-TS1-01                   1.640               NaN   \n",
       "3     BA-WQ-TS1-01                   3.280               NaN   \n",
       "5     BA-WQ-TS1-01                   3.280               NaN   \n",
       "..             ...                     ...               ...   \n",
       "67    BA-WQ-TS6-03                  55.774               NaN   \n",
       "68    BA-WQ-TS6-03                  49.212               NaN   \n",
       "69    BA-WQ-TS6-03                  59.055               NaN   \n",
       "70    BA-WQ-TS6-03                  57.414               NaN   \n",
       "71    BA-WQ-TS6-03                  57.414               NaN   \n",
       "\n",
       "    Water Temperature (°C)  Specific Conductance (uS/cm)  Salinity (ppt)   pH  \\\n",
       "0                     29.5                       40211.7            25.6  8.3   \n",
       "1                     29.4                       26066.0            15.9  8.5   \n",
       "2                     19.1                       16827.5             9.9  8.5   \n",
       "3                     27.6                       26890.4            11.8  8.5   \n",
       "5                     30.9                       29081.1            15.8  8.4   \n",
       "..                     ...                           ...             ...  ...   \n",
       "67                    29.4                       50097.5            32.8  8.2   \n",
       "68                    20.7                       50235.0            31.6  8.0   \n",
       "69                    23.8                       57170.7            39.1  8.1   \n",
       "70                    25.6                       54102.5            35.4  8.5   \n",
       "71                    26.7                       50329.5            32.8  8.0   \n",
       "\n",
       "     Latitude  Longitude            Datetime                    geometry  \n",
       "0   29.274000 -89.954500 2018-07-25 12:25:00  POINT (-89.95450 29.27400)  \n",
       "1   29.274000 -89.954500 2018-09-26 09:53:00  POINT (-89.95450 29.27400)  \n",
       "2   29.274000 -89.954500 2019-03-26 12:00:00  POINT (-89.95450 29.27400)  \n",
       "3   29.274000 -89.954500 2019-05-21 11:48:00  POINT (-89.95450 29.27400)  \n",
       "5   29.274000 -89.954500 2019-08-29 12:59:00  POINT (-89.95450 29.27400)  \n",
       "..        ...        ...                 ...                         ...  \n",
       "67  29.101671 -89.972003 2018-09-26 08:28:00  POINT (-89.97200 29.10167)  \n",
       "68  29.101671 -89.972003 2019-03-26 09:00:00  POINT (-89.97200 29.10167)  \n",
       "69  29.101671 -89.972003 2019-05-21 09:05:00  POINT (-89.97200 29.10167)  \n",
       "70  29.101671 -89.972003 2019-07-25 09:55:00  POINT (-89.97200 29.10167)  \n",
       "71  29.101671 -89.972003 2019-08-29 10:18:00  POINT (-89.97200 29.10167)  \n",
       "\n",
       "[108 rows x 11 columns]"
      ]
     },
     "metadata": {},
     "output_type": "display_data"
    }
   ],
   "source": [
    "display(PhEligible)"
   ]
  },
  {
   "cell_type": "markdown",
   "metadata": {},
   "source": [
    "After determining viable stations for growing vegetation, we can measure their \"distance from an optimal location\". For our purposes, this optimal location will have a pH of 6, and a salinity (how much salt is in the water) of zero. "
   ]
  },
  {
   "cell_type": "code",
   "execution_count": 58,
   "metadata": {},
   "outputs": [
    {
     "data": {
      "text/html": [
       "<div>\n",
       "<style scoped>\n",
       "    .dataframe tbody tr th:only-of-type {\n",
       "        vertical-align: middle;\n",
       "    }\n",
       "\n",
       "    .dataframe tbody tr th {\n",
       "        vertical-align: top;\n",
       "    }\n",
       "\n",
       "    .dataframe thead th {\n",
       "        text-align: right;\n",
       "    }\n",
       "</style>\n",
       "<table border=\"1\" class=\"dataframe\">\n",
       "  <thead>\n",
       "    <tr style=\"text-align: right;\">\n",
       "      <th></th>\n",
       "      <th>CPRA Station ID</th>\n",
       "      <th>pH</th>\n",
       "      <th>Salinity (ppt)</th>\n",
       "    </tr>\n",
       "  </thead>\n",
       "  <tbody>\n",
       "    <tr>\n",
       "      <th>0</th>\n",
       "      <td>BA-WQ-TS1-01</td>\n",
       "      <td>8.3</td>\n",
       "      <td>25.6</td>\n",
       "    </tr>\n",
       "    <tr>\n",
       "      <th>1</th>\n",
       "      <td>BA-WQ-TS1-01</td>\n",
       "      <td>8.5</td>\n",
       "      <td>15.9</td>\n",
       "    </tr>\n",
       "    <tr>\n",
       "      <th>2</th>\n",
       "      <td>BA-WQ-TS1-01</td>\n",
       "      <td>8.5</td>\n",
       "      <td>9.9</td>\n",
       "    </tr>\n",
       "    <tr>\n",
       "      <th>3</th>\n",
       "      <td>BA-WQ-TS1-01</td>\n",
       "      <td>8.5</td>\n",
       "      <td>11.8</td>\n",
       "    </tr>\n",
       "    <tr>\n",
       "      <th>4</th>\n",
       "      <td>BA-WQ-TS1-01</td>\n",
       "      <td>8.4</td>\n",
       "      <td>15.8</td>\n",
       "    </tr>\n",
       "    <tr>\n",
       "      <th>...</th>\n",
       "      <td>...</td>\n",
       "      <td>...</td>\n",
       "      <td>...</td>\n",
       "    </tr>\n",
       "    <tr>\n",
       "      <th>104</th>\n",
       "      <td>BA-WQ-TS6-03</td>\n",
       "      <td>8.0</td>\n",
       "      <td>31.6</td>\n",
       "    </tr>\n",
       "    <tr>\n",
       "      <th>105</th>\n",
       "      <td>BA-WQ-TS6-03</td>\n",
       "      <td>8.1</td>\n",
       "      <td>39.1</td>\n",
       "    </tr>\n",
       "    <tr>\n",
       "      <th>106</th>\n",
       "      <td>BA-WQ-TS6-03</td>\n",
       "      <td>8.5</td>\n",
       "      <td>35.4</td>\n",
       "    </tr>\n",
       "    <tr>\n",
       "      <th>107</th>\n",
       "      <td>BA-WQ-TS6-03</td>\n",
       "      <td>8.0</td>\n",
       "      <td>32.8</td>\n",
       "    </tr>\n",
       "    <tr>\n",
       "      <th>108</th>\n",
       "      <td>Placeholder</td>\n",
       "      <td>7.0</td>\n",
       "      <td>0.0</td>\n",
       "    </tr>\n",
       "  </tbody>\n",
       "</table>\n",
       "<p>109 rows × 3 columns</p>\n",
       "</div>"
      ],
      "text/plain": [
       "    CPRA Station ID   pH  Salinity (ppt)\n",
       "0      BA-WQ-TS1-01  8.3            25.6\n",
       "1      BA-WQ-TS1-01  8.5            15.9\n",
       "2      BA-WQ-TS1-01  8.5             9.9\n",
       "3      BA-WQ-TS1-01  8.5            11.8\n",
       "4      BA-WQ-TS1-01  8.4            15.8\n",
       "..              ...  ...             ...\n",
       "104    BA-WQ-TS6-03  8.0            31.6\n",
       "105    BA-WQ-TS6-03  8.1            39.1\n",
       "106    BA-WQ-TS6-03  8.5            35.4\n",
       "107    BA-WQ-TS6-03  8.0            32.8\n",
       "108     Placeholder  7.0             0.0\n",
       "\n",
       "[109 rows x 3 columns]"
      ]
     },
     "metadata": {},
     "output_type": "display_data"
    }
   ],
   "source": [
    "PhD=PhEligible[[\"CPRA Station ID\",\"pH\", \"Salinity (ppt)\"]]\n",
    "PhD = PhD.append({'CPRA Station ID': 'Placeholder', \"pH\":7,\"Salinity (ppt)\":0 }, ignore_index=True)\n",
    "display(PhD)"
   ]
  },
  {
   "cell_type": "markdown",
   "metadata": {},
   "source": [
    "You will notice that the each station has more than one measurement associated with, that's because these measurements were made over time. Let's take the average for each station. "
   ]
  },
  {
   "cell_type": "code",
   "execution_count": 59,
   "metadata": {},
   "outputs": [
    {
     "data": {
      "text/plain": [
       "CPRA Station ID\n",
       "BA-WQ-TS1-01    8.440000\n",
       "BA-WQ-TS1-02    8.400000\n",
       "BA-WQ-TS1-03    8.400000\n",
       "BA-WQ-TS2-01    8.400000\n",
       "BA-WQ-TS2-02    8.425000\n",
       "BA-WQ-TS2-03    8.380000\n",
       "BA-WQ-TS4-01    8.400000\n",
       "BA-WQ-TS4-02    8.150000\n",
       "BA-WQ-TS4-03    8.000000\n",
       "BA-WQ-TS6-01    8.300000\n",
       "BA-WQ-TS6-02    8.160000\n",
       "BA-WQ-TS6-03    8.116667\n",
       "Placeholder     7.000000\n",
       "Name: pH, dtype: float64"
      ]
     },
     "metadata": {},
     "output_type": "display_data"
    },
    {
     "data": {
      "text/html": [
       "<div>\n",
       "<style scoped>\n",
       "    .dataframe tbody tr th:only-of-type {\n",
       "        vertical-align: middle;\n",
       "    }\n",
       "\n",
       "    .dataframe tbody tr th {\n",
       "        vertical-align: top;\n",
       "    }\n",
       "\n",
       "    .dataframe thead th {\n",
       "        text-align: right;\n",
       "    }\n",
       "</style>\n",
       "<table border=\"1\" class=\"dataframe\">\n",
       "  <thead>\n",
       "    <tr style=\"text-align: right;\">\n",
       "      <th></th>\n",
       "      <th>pH</th>\n",
       "      <th>Salinity (ppt)</th>\n",
       "    </tr>\n",
       "    <tr>\n",
       "      <th>CPRA Station ID</th>\n",
       "      <th></th>\n",
       "      <th></th>\n",
       "    </tr>\n",
       "  </thead>\n",
       "  <tbody>\n",
       "    <tr>\n",
       "      <th>BA-WQ-TS1-01</th>\n",
       "      <td>8.440000</td>\n",
       "      <td>15.800000</td>\n",
       "    </tr>\n",
       "    <tr>\n",
       "      <th>BA-WQ-TS1-02</th>\n",
       "      <td>8.400000</td>\n",
       "      <td>16.260000</td>\n",
       "    </tr>\n",
       "    <tr>\n",
       "      <th>BA-WQ-TS1-03</th>\n",
       "      <td>8.400000</td>\n",
       "      <td>17.160000</td>\n",
       "    </tr>\n",
       "    <tr>\n",
       "      <th>BA-WQ-TS2-01</th>\n",
       "      <td>8.400000</td>\n",
       "      <td>16.100000</td>\n",
       "    </tr>\n",
       "    <tr>\n",
       "      <th>BA-WQ-TS2-02</th>\n",
       "      <td>8.425000</td>\n",
       "      <td>16.650000</td>\n",
       "    </tr>\n",
       "    <tr>\n",
       "      <th>BA-WQ-TS2-03</th>\n",
       "      <td>8.380000</td>\n",
       "      <td>18.760000</td>\n",
       "    </tr>\n",
       "    <tr>\n",
       "      <th>BA-WQ-TS4-01</th>\n",
       "      <td>8.400000</td>\n",
       "      <td>20.833333</td>\n",
       "    </tr>\n",
       "    <tr>\n",
       "      <th>BA-WQ-TS4-02</th>\n",
       "      <td>8.150000</td>\n",
       "      <td>29.750000</td>\n",
       "    </tr>\n",
       "    <tr>\n",
       "      <th>BA-WQ-TS4-03</th>\n",
       "      <td>8.000000</td>\n",
       "      <td>32.800000</td>\n",
       "    </tr>\n",
       "    <tr>\n",
       "      <th>BA-WQ-TS6-01</th>\n",
       "      <td>8.300000</td>\n",
       "      <td>22.033333</td>\n",
       "    </tr>\n",
       "    <tr>\n",
       "      <th>BA-WQ-TS6-02</th>\n",
       "      <td>8.160000</td>\n",
       "      <td>30.580000</td>\n",
       "    </tr>\n",
       "    <tr>\n",
       "      <th>BA-WQ-TS6-03</th>\n",
       "      <td>8.116667</td>\n",
       "      <td>34.383333</td>\n",
       "    </tr>\n",
       "    <tr>\n",
       "      <th>Placeholder</th>\n",
       "      <td>7.000000</td>\n",
       "      <td>0.000000</td>\n",
       "    </tr>\n",
       "  </tbody>\n",
       "</table>\n",
       "</div>"
      ],
      "text/plain": [
       "                       pH  Salinity (ppt)\n",
       "CPRA Station ID                          \n",
       "BA-WQ-TS1-01     8.440000       15.800000\n",
       "BA-WQ-TS1-02     8.400000       16.260000\n",
       "BA-WQ-TS1-03     8.400000       17.160000\n",
       "BA-WQ-TS2-01     8.400000       16.100000\n",
       "BA-WQ-TS2-02     8.425000       16.650000\n",
       "BA-WQ-TS2-03     8.380000       18.760000\n",
       "BA-WQ-TS4-01     8.400000       20.833333\n",
       "BA-WQ-TS4-02     8.150000       29.750000\n",
       "BA-WQ-TS4-03     8.000000       32.800000\n",
       "BA-WQ-TS6-01     8.300000       22.033333\n",
       "BA-WQ-TS6-02     8.160000       30.580000\n",
       "BA-WQ-TS6-03     8.116667       34.383333\n",
       "Placeholder      7.000000        0.000000"
      ]
     },
     "metadata": {},
     "output_type": "display_data"
    }
   ],
   "source": [
    "AvPh=PhD.groupby('CPRA Station ID')[\"pH\"].mean()\n",
    "display(AvPh)\n",
    "AvS=PhD.groupby('CPRA Station ID')[\"Salinity (ppt)\"].mean()\n",
    "data ={'CPRA Station ID':PhD[\"CPRA Station ID\"],'Average pH': AvPh, 'Average Silinity (ppt)':AvS}\n",
    "UpdatedPh = pd.concat([AvPh, AvS],axis=1)\n",
    "display(UpdatedPh)"
   ]
  },
  {
   "cell_type": "markdown",
   "metadata": {},
   "source": [
    "We finally have a table withthe average pH's and salinities for each site. Let's finally examine their distance from the Placeholder (the optimal location) after standerizing the above table."
   ]
  },
  {
   "cell_type": "code",
   "execution_count": 61,
   "metadata": {
    "scrolled": false
   },
   "outputs": [
    {
     "data": {
      "text/html": [
       "<div>\n",
       "<style scoped>\n",
       "    .dataframe tbody tr th:only-of-type {\n",
       "        vertical-align: middle;\n",
       "    }\n",
       "\n",
       "    .dataframe tbody tr th {\n",
       "        vertical-align: top;\n",
       "    }\n",
       "\n",
       "    .dataframe thead th {\n",
       "        text-align: right;\n",
       "    }\n",
       "</style>\n",
       "<table border=\"1\" class=\"dataframe\">\n",
       "  <thead>\n",
       "    <tr style=\"text-align: right;\">\n",
       "      <th></th>\n",
       "      <th>pH</th>\n",
       "      <th>Salinity (ppt)</th>\n",
       "      <th>Distance from optimal</th>\n",
       "    </tr>\n",
       "    <tr>\n",
       "      <th>CPRA Station ID</th>\n",
       "      <th></th>\n",
       "      <th></th>\n",
       "      <th></th>\n",
       "    </tr>\n",
       "  </thead>\n",
       "  <tbody>\n",
       "    <tr>\n",
       "      <th>BA-WQ-TS2-01</th>\n",
       "      <td>0.521792</td>\n",
       "      <td>-0.510552</td>\n",
       "      <td>4.005475</td>\n",
       "    </tr>\n",
       "    <tr>\n",
       "      <th>BA-WQ-TS1-02</th>\n",
       "      <td>0.521792</td>\n",
       "      <td>-0.493371</td>\n",
       "      <td>4.012921</td>\n",
       "    </tr>\n",
       "    <tr>\n",
       "      <th>BA-WQ-TS1-03</th>\n",
       "      <td>0.521792</td>\n",
       "      <td>-0.396729</td>\n",
       "      <td>4.055903</td>\n",
       "    </tr>\n",
       "    <tr>\n",
       "      <th>BA-WQ-TS1-01</th>\n",
       "      <td>0.625026</td>\n",
       "      <td>-0.542766</td>\n",
       "      <td>4.085357</td>\n",
       "    </tr>\n",
       "    <tr>\n",
       "      <th>BA-WQ-TS2-02</th>\n",
       "      <td>0.586313</td>\n",
       "      <td>-0.451493</td>\n",
       "      <td>4.089247</td>\n",
       "    </tr>\n",
       "    <tr>\n",
       "      <th>BA-WQ-TS2-03</th>\n",
       "      <td>0.470175</td>\n",
       "      <td>-0.224920</td>\n",
       "      <td>4.091784</td>\n",
       "    </tr>\n",
       "    <tr>\n",
       "      <th>BA-WQ-TS6-01</th>\n",
       "      <td>0.263709</td>\n",
       "      <td>0.126571</td>\n",
       "      <td>4.105400</td>\n",
       "    </tr>\n",
       "    <tr>\n",
       "      <th>BA-WQ-TS4-01</th>\n",
       "      <td>0.521792</td>\n",
       "      <td>-0.002285</td>\n",
       "      <td>4.249655</td>\n",
       "    </tr>\n",
       "    <tr>\n",
       "      <th>BA-WQ-TS4-02</th>\n",
       "      <td>-0.123417</td>\n",
       "      <td>0.955189</td>\n",
       "      <td>4.360508</td>\n",
       "    </tr>\n",
       "    <tr>\n",
       "      <th>BA-WQ-TS4-03</th>\n",
       "      <td>-0.510542</td>\n",
       "      <td>1.282698</td>\n",
       "      <td>4.366430</td>\n",
       "    </tr>\n",
       "    <tr>\n",
       "      <th>BA-WQ-TS6-02</th>\n",
       "      <td>-0.097609</td>\n",
       "      <td>1.044314</td>\n",
       "      <td>4.443565</td>\n",
       "    </tr>\n",
       "    <tr>\n",
       "      <th>BA-WQ-TS6-03</th>\n",
       "      <td>-0.209445</td>\n",
       "      <td>1.452717</td>\n",
       "      <td>4.683704</td>\n",
       "    </tr>\n",
       "  </tbody>\n",
       "</table>\n",
       "</div>"
      ],
      "text/plain": [
       "                       pH  Salinity (ppt)  Distance from optimal\n",
       "CPRA Station ID                                                 \n",
       "BA-WQ-TS2-01     0.521792       -0.510552               4.005475\n",
       "BA-WQ-TS1-02     0.521792       -0.493371               4.012921\n",
       "BA-WQ-TS1-03     0.521792       -0.396729               4.055903\n",
       "BA-WQ-TS1-01     0.625026       -0.542766               4.085357\n",
       "BA-WQ-TS2-02     0.586313       -0.451493               4.089247\n",
       "BA-WQ-TS2-03     0.470175       -0.224920               4.091784\n",
       "BA-WQ-TS6-01     0.263709        0.126571               4.105400\n",
       "BA-WQ-TS4-01     0.521792       -0.002285               4.249655\n",
       "BA-WQ-TS4-02    -0.123417        0.955189               4.360508\n",
       "BA-WQ-TS4-03    -0.510542        1.282698               4.366430\n",
       "BA-WQ-TS6-02    -0.097609        1.044314               4.443565\n",
       "BA-WQ-TS6-03    -0.209445        1.452717               4.683704"
      ]
     },
     "metadata": {},
     "output_type": "display_data"
    }
   ],
   "source": [
    "from sklearn.metrics.pairwise import cosine_similarity, euclidean_distances\n",
    "UpdatedPh_ = (\n",
    "    (UpdatedPh - UpdatedPh.mean()) / \n",
    "    UpdatedPh.std())\n",
    "\n",
    "UpdatedPh_['Distance from optimal'] = euclidean_distances(UpdatedPh_, UpdatedPh_.to_numpy()[12,None]).squeeze()\n",
    "UpdatedPh_.drop( index=\"Placeholder\", inplace=True)\n",
    "UpdatedPh_ = UpdatedPh_.sort_values(by=['Distance from optimal'])\n",
    "display(UpdatedPh_)"
   ]
  },
  {
   "cell_type": "markdown",
   "metadata": {},
   "source": [
    "We know have a general idea of the locations that are potentially viable for erosion protection through growing vegeation! In the furute we hope to add more metrics that might span a larger range of the coast. We can then expand this same strategy to other variables easily."
   ]
  },
  {
   "cell_type": "markdown",
   "metadata": {},
   "source": [
    "### Model Predictions\n",
    "\n",
    "One of the best ways of combatting land erosion from wind and water is to plant vegetation near the coast. Plant roots spread through the sand making it more resilient against erosion, and above-ground vegitation encourages natural dune formation. Newly planted material often takes an entire season to establish itself and its protective effects are cumulative but slow. Sometimes it is necessary to take more immediate action into protecting the coast, such as the use of sandbags, man made dunes, or sea walls. Sea walls can often be difficult to maintain, as with sandbags, and these methods typically prevent futher vegitative growth in the area. Even man-made sand dunes lack the continuous density gradient that natural sands have which encourages plant-root growth. For these reasons we would like to use hydrographic, vegitation, and accretion data in order to classify regions of the coast as best being protected by one of the above methods.\n",
    "\n",
    "To do this we will identify the hydrographic conditions that afford vegetative growth, search for locations that have little vegetation but the opportunity to grow more, and determine if active planting will be a good solution for that area. Alternatively, if the hydrographic conditions are not condusive to plant growth, we may classify that region as being best protected by unnatural sand formations.\n",
    "\n",
    "As a secondary part of our model, we would like to use accretion data see how the coast is evolving overtime. If we could calculate how quickly the coastline is receeding in certain areas, then we could determine an \"urgency\" metric and rule out certain regions of the coast from viably being protected with plants. We may try to obtain population location data to try to determine weights to how urgent erosion prevention is in certain places across the coast."
   ]
  }
 ],
 "metadata": {
  "kernelspec": {
   "display_name": "Python 3",
   "language": "python",
   "name": "python3"
  },
  "language_info": {
   "codemirror_mode": {
    "name": "ipython",
    "version": 3
   },
   "file_extension": ".py",
   "mimetype": "text/x-python",
   "name": "python",
   "nbconvert_exporter": "python",
   "pygments_lexer": "ipython3",
   "version": "3.7.2"
  }
 },
 "nbformat": 4,
 "nbformat_minor": 2
}
